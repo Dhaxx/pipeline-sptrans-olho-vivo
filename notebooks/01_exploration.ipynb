{
 "cells": [
  {
   "cell_type": "markdown",
   "id": "bb552617",
   "metadata": {},
   "source": [
    "# Exploratory Data Analysis\n",
    "\n",
    "First of all, it's necessary make a exploration on the data contained on ./data/raw to see the types of information what we will work with."
   ]
  },
  {
   "cell_type": "code",
   "execution_count": 57,
   "id": "1018c398",
   "metadata": {},
   "outputs": [],
   "source": [
    "import yaml\n",
    "import os\n",
    "import pandas as pd\n",
    "\n",
    "ROOT_DIR = os.path.abspath(os.path.join(os.getcwd(), '..'))\n",
    "REPORTS_DIR = os.path.join(ROOT_DIR, \"reports\")\n",
    "os.makedirs(REPORTS_DIR, exist_ok=True)\n",
    "\n",
    "with open(ROOT_DIR+\"\\\\configs\\\\config.yml\") as f:\n",
    "    configs = yaml.safe_load(f)"
   ]
  },
  {
   "cell_type": "code",
   "execution_count": 58,
   "id": "6ab9d15f",
   "metadata": {},
   "outputs": [],
   "source": [
    "raw_path = configs['paths']['raw_data']\n",
    "\n",
    "agency_file = os.path.join(ROOT_DIR+'\\\\'+raw_path, configs['files']['agency'])\n",
    "stops_file = os.path.join(ROOT_DIR+'\\\\'+raw_path, configs['files']['stops'])\n",
    "trips_file = os.path.join(ROOT_DIR+'\\\\'+raw_path, configs['files']['trips'])\n",
    "calendar_file = os.path.join(ROOT_DIR+'\\\\'+raw_path, configs['files']['calendar'])\n",
    "routes_file = os.path.join(ROOT_DIR+'\\\\'+raw_path, configs['files']['routes'])\n",
    "\n",
    "stops = pd.read_csv(stops_file)\n",
    "trips = pd.read_csv(trips_file)\n",
    "calendar = pd.read_csv(calendar_file)\n",
    "routes = pd.read_csv(routes_file)\n",
    "agency = pd.read_csv(agency_file)\n",
    "\n",
    "models = {\n",
    "    \"stops\": stops,\n",
    "    \"trips\": trips,\n",
    "    \"calendar\": calendar,\n",
    "    \"routes\": routes,\n",
    "    \"agency\": agency\n",
    "}"
   ]
  },
  {
   "cell_type": "markdown",
   "id": "81f67a81",
   "metadata": {},
   "source": [
    "## General Overview Reports"
   ]
  },
  {
   "cell_type": "code",
   "execution_count": null,
   "id": "8b8e9cc6",
   "metadata": {},
   "outputs": [],
   "source": [
    "for name, model in models.items():\n",
    "    report_path = os.path.join(REPORTS_DIR, f\"{name}_exploration.txt\")\n",
    "    with open(report_path, \"w\", encoding=\"utf-8\") as f:\n",
    "        f.write(\"=\"*20 + f\" {name.upper()} \" + \"=\"*20 + \"\\n\")\n",
    "        \n",
    "        f.write(f\"[INFO] Shape: {model.shape}\\n\")\n",
    "        f.write(f\"[COLUMNS] {list(model.columns)}\\n\\n\")\n",
    "        \n",
    "        f.write(\"[HEAD]\\n\" + model.head().to_string() + \"\\n\\n\")\n",
    "        f.write(\"[TAIL]\\n\" + model.tail().to_string() + \"\\n\\n\")\n",
    "        \n",
    "        f.write(\"[DTYPES]\\n\" + str(model.dtypes) + \"\\n\\n\")\n",
    "        \n",
    "        f.write(\"[NULLS]\\n\" + str(model.isnull().sum()) + \"\\n\\n\")\n",
    "        \n",
    "        f.write(f\"[DUPLICATED] {model.duplicated().sum()}\\n\\n\")\n",
    "        \n",
    "        f.write(\"[DESCRIBE]\\n\" + model.describe(include=\"all\").to_string() + \"\\n\\n\")\n",
    "        \n",
    "        f.write(\"[VALUE COUNTS - Top 3 colunas]\\n\")\n",
    "        for col in model.columns[:3]:\n",
    "            f.write(f\"\\nColuna: {col}\\n\")\n",
    "            f.write(str(model[col].value_counts().head()) + \"\\n\")\n",
    "        \n",
    "    print(f\"✅ Relatório gerado: {report_path}\")"
   ]
  }
 ],
 "metadata": {
  "kernelspec": {
   "display_name": "venv (3.12.6)",
   "language": "python",
   "name": "python3"
  },
  "language_info": {
   "codemirror_mode": {
    "name": "ipython",
    "version": 3
   },
   "file_extension": ".py",
   "mimetype": "text/x-python",
   "name": "python",
   "nbconvert_exporter": "python",
   "pygments_lexer": "ipython3",
   "version": "3.12.6"
  }
 },
 "nbformat": 4,
 "nbformat_minor": 5
}
