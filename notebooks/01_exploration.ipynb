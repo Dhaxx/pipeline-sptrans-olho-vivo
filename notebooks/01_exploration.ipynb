{
 "cells": [
  {
   "cell_type": "markdown",
   "id": "3cc515be",
   "metadata": {},
   "source": [
    "# Autenticação à API Olho Vivo SPTRANS"
   ]
  },
  {
   "cell_type": "code",
   "execution_count": 5,
   "id": "c40868eb",
   "metadata": {},
   "outputs": [
    {
     "name": "stdout",
     "output_type": "stream",
     "text": [
      "True\n",
      "200 - False\n"
     ]
    }
   ],
   "source": [
    "import yaml\n",
    "import os\n",
    "from dotenv import load_dotenv\n",
    "import requests\n",
    "\n",
    "ROOT_DIR = os.path.abspath(os.path.join(os.getcwd(), '..'))\n",
    "print(load_dotenv(dotenv_path=f\"{ROOT_DIR}/configs/.env\"))\n",
    "\n",
    "with open(f\"{ROOT_DIR}/configs/config.yml\") as f:\n",
    "    configs = yaml.safe_load(f)\n",
    "\n",
    "base_url = configs['api']['base_url']\n",
    "api_token = os.getenv('API_TOKEN')\n",
    "auth_endpoint = configs['api']['endpoints'][0]\n",
    "auth_request = base_url+auth_endpoint+f\"?token={api_token}\"\n",
    "auth_response = requests.post(auth_request)\n",
    "\n",
    "print(f'{auth_response.status_code} - {auth_response.json()}')"
   ]
  }
 ],
 "metadata": {
  "kernelspec": {
   "display_name": "venv (3.12.6)",
   "language": "python",
   "name": "python3"
  },
  "language_info": {
   "codemirror_mode": {
    "name": "ipython",
    "version": 3
   },
   "file_extension": ".py",
   "mimetype": "text/x-python",
   "name": "python",
   "nbconvert_exporter": "python",
   "pygments_lexer": "ipython3",
   "version": "3.12.6"
  }
 },
 "nbformat": 4,
 "nbformat_minor": 5
}
