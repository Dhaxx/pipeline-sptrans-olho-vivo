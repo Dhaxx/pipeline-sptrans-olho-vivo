{
 "cells": [
  {
   "cell_type": "markdown",
   "id": "3cc515be",
   "metadata": {},
   "source": [
    "# Autenticação à API Olho Vivo SPTRANS"
    "# Autenticação à API Olho Vivo SPTRANS"
   ]
  },
  {
   "cell_type": "code",
   "execution_count": null,
   "id": "1018c398",
   "metadata": {},
   "outputs": [],
   "source": [
    "import yaml\n",
    "import os\n",
    "from dotenv import load_dotenv\n",
    "import requests\n",
    "from dotenv import load_dotenv\n",
    "import requests\n",
    "\n",
    "ROOT_DIR = os.path.abspath(os.path.join(os.getcwd(), '..'))\n",
    "load_dotenv(dotenv_path=f\"{ROOT_DIR}/configs/.env\")\n",
    "\n",
    "with open(f\"{ROOT_DIR}/configs/config.yml\") as f:\n",
    "    configs = yaml.safe_load(f)\n",
    "\n",
    "base_url = configs['api']['base_url']\n",
    "api_token = os.getenv('API_TOKEN')\n",
    "auth_endpoint = configs['api']['endpoints'][0]\n",
    "auth_request = base_url+auth_endpoint+f\"?token={api_token}\"\n",
    "\n",
    "session = requests.Session() # Keep the session after authenticating\n",
    "\n",
    "auth_response = session.post(auth_request)\n",
    "\n",
    "print(f'{auth_response.status_code} - {auth_response.json()}')"
   ]
  },
  {
   "cell_type": "markdown",
   "id": "72163177",
   "metadata": {},
   "source": [
    "# Try Endpoints Call"
   ]
  },
  {
   "cell_type": "markdown",
   "id": "4f10e42f",
   "metadata": {},
   "source": [
    "# Bus Lines"
   ]
  },
  {
   "cell_type": "code",
   "execution_count": null,
   "id": "47de5e8d",
   "metadata": {},
   "outputs": [],
   "source": [
    "line_id = configs['api']['line_id']\n",
    "lines_request = base_url+configs['api']['endpoints'][1]+f'/Buscar?termosBusca={line_id}'\n",
    "lines = session.get(lines_request)\n",
    "\n",
    "print(lines.json()[1])\n",
    "\n",
    "line_code = lines.json()[0]['cl'] # Get the first line code of the lines result of line 4013"
   ]
  },
  {
   "cell_type": "markdown",
   "id": "f6649abd",
   "metadata": {},
   "source": [
    "# Bus Stops by Lines"
   ]
  },
  {
   "cell_type": "code",
   "execution_count": null,
   "id": "f31a1347",
   "metadata": {},
   "outputs": [],
   "source": [
    "stops_request = base_url+configs['api']['endpoints'][2]+f'?codigoLinha='+str(line_code)\n",
    "stops = session.get(stops_request)\n",
    "\n",
    "try:\n",
    "    stops.json()[1]\n",
    "    stop_code = stops.json()[0]['cp']\n",
    "except:\n",
    "    stop_code = None"
   ]
  },
  {
   "cell_type": "markdown",
   "id": "7a1f2641",
   "metadata": {},
   "source": [
    "# Bus Last Position"
   ]
  },
  {
   "cell_type": "code",
   "execution_count": null,
   "id": "61c46537",
   "metadata": {},
   "outputs": [],
   "source": [
    "last_position_request = base_url+configs['api']['endpoints'][3]\n",
    "last_position = session.get(last_position_request)"
   ]
  },
  {
   "cell_type": "markdown",
   "id": "da9800cb",
   "metadata": {},
   "source": [
    "# Bus Lane"
   ]
  },
  {
   "cell_type": "code",
   "execution_count": null,
   "id": "8ef4a42d",
   "metadata": {},
   "outputs": [],
   "source": [
    "lane_request = base_url+configs['api']['endpoints'][4]\n",
    "lane = session.get(lane_request)\n",
    "\n",
    "lane.json()"
   ]
  },
  {
   "cell_type": "markdown",
   "id": "4d3841f6",
   "metadata": {},
   "source": [
    "# Estimated Arrival Time of Buses"
   ]
  },
  {
   "cell_type": "code",
   "execution_count": null,
   "id": "55c88109",
   "metadata": {},
   "outputs": [],
   "source": [
    "estimated_arrival_request = base_url+configs['api']['endpoints'][5]+f'?codigoParada={stop_code}&codigoLinha={line_code}'\n",
    "estimated_arrival = session.get(estimated_arrival_request)\n",
    "\n",
    "estimated_arrival.json()"
   ]
  },
  {
   "cell_type": "markdown",
   "id": "0f06a5f4",
   "metadata": {},
   "source": [
    "# Save Raw Data Results"
   ]
  },
  {
   "cell_type": "code",
   "execution_count": null,
   "id": "b71433d2",
   "metadata": {},
   "outputs": [],
   "source": [
    "import json\n",
    "from pathlib import Path\n",
    "\n",
    "line_folder = Path(ROOT_DIR) / configs[\"paths\"][\"data\"][0] / str(line_id)\n",
    "line_folder.mkdir(parents=True, exist_ok=True)\n",
    "\n",
    "with open(line_folder / f\"line_{line_id}.json\", \"w\", encoding=\"utf-8\") as f:\n",
    "    json.dump(lines.json(), f, ensure_ascii=False, indent=2)\n",
    "\n",
    "with open(line_folder / f\"stop_{line_id}.json\", \"w\", encoding=\"utf-8\") as f:\n",
    "    json.dump(stops.json(), f, ensure_ascii=False, indent=2)\n",
    "\n",
    "with open(line_folder / f\"last_positions.json\", \"w\", encoding=\"utf-8\") as f:\n",
    "    json.dump(last_position.json(), f, ensure_ascii=False, indent=2)\n",
    "\n",
    "with open(line_folder / f\"bus_lane.json\", \"w\", encoding=\"utf-8\") as f:\n",
    "    json.dump(lane.json(), f, ensure_ascii=False, indent=2)\n",
    "\n",
    "with open(line_folder / f\"estimated_arrival_{line_id}.json\", \"w\", encoding=\"utf-8\") as f:\n",
    "    json.dump(estimated_arrival.json(), f, ensure_ascii=False, indent=2)"
   ]
  }
 ],
 "metadata": {
  "kernelspec": {
   "display_name": "venv (3.12.6)",
   "language": "python",
   "name": "python3"
  },
  "language_info": {
   "codemirror_mode": {
    "name": "ipython",
    "version": 3
   },
   "file_extension": ".py",
   "mimetype": "text/x-python",
   "name": "python",
   "nbconvert_exporter": "python",
   "pygments_lexer": "ipython3",
   "version": "3.12.6"
  }
 },
 "nbformat": 4,
 "nbformat_minor": 5
}
