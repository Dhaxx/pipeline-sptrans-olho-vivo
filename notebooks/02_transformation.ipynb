{
 "cells": [
  {
   "cell_type": "markdown",
   "id": "60746e08",
   "metadata": {},
   "source": [
    "# Transforming & Normalizing"
   ]
  },
  {
   "cell_type": "code",
   "execution_count": 1,
   "id": "e559774b",
   "metadata": {},
   "outputs": [],
   "source": [
    "import yaml\n",
    "from pathlib import Path\n",
    "import json\n",
    "import pandas as pd\n",
    "import os\n",
    "\n",
    "ROOT_DIR = os.path.abspath(os.path.join(os.getcwd(), '..'))\n",
    "\n",
    "with open(f\"{ROOT_DIR}/configs/config.yml\") as f:\n",
    "    configs = yaml.safe_load(f)\n",
    "\n",
    "line_id = configs['api']['line_id']\n",
    "\n",
    "line_folder = Path(ROOT_DIR) / \"data\" / \"raw\" / str(line_id)\n",
    "\n",
    "with open(line_folder / f\"line_{line_id}.json\", \"r\", encoding=\"utf-8\") as f:\n",
    "    lines_data = json.load(f)\n",
    "\n",
    "with open(line_folder / f\"stop_{line_id}.json\", \"r\", encoding=\"utf-8\") as f:\n",
    "    stops_data = json.load(f)\n",
    "\n",
    "with open(line_folder / f\"estimated_arrival_{line_id}.json\", \"r\", encoding=\"utf-8\") as f:\n",
    "    arrival_data = json.load(f)"
   ]
  },
  {
   "cell_type": "markdown",
   "id": "1cca8318",
   "metadata": {},
   "source": [
    "## Transform .json into dataframes"
   ]
  },
  {
   "cell_type": "code",
   "execution_count": 2,
   "id": "bfa1f367",
   "metadata": {},
   "outputs": [],
   "source": [
    "lines_df = pd.DataFrame(lines_data)\n",
    "stops_df = pd.DataFrame(stops_data)\n",
    "arrival_df = pd.DataFrame(arrival_data)"
   ]
  },
  {
   "cell_type": "markdown",
   "id": "64c6796b",
   "metadata": {},
   "source": [
    "## Initial Cleaning"
   ]
  },
  {
   "cell_type": "code",
   "execution_count": 3,
   "id": "f16aeceb",
   "metadata": {},
   "outputs": [],
   "source": [
    "from pandas import json_normalize\n",
    "\n",
    "lines_df.drop_duplicates(inplace=True)\n",
    "lines_df = lines_df.rename(columns={\n",
    "    \"cl\": \"codigo_linha\",\n",
    "    \"lc\": \"linha_circular\",     \n",
    "    \"lt\": \"numero_linha\",       \n",
    "    \"tl\": \"tipo_linha\",         \n",
    "    \"sl\": \"sentido\",            \n",
    "    \"tp\": \"terminal_principal\",  \n",
    "    \"ts\": \"terminal_secundario\"      \n",
    "})\n",
    "\n",
    "stops_df.drop_duplicates(inplace=True)\n",
    "stops_df = stops_df.rename(columns={\n",
    "    \"cp\": \"codigo_parada\",\n",
    "    \"np\": \"nome_parada\",\n",
    "    \"py\": \"ponto_y\",\n",
    "    \"px\": \"ponto_x\"\n",
    "})\n",
    "\n",
    "arrival_df = json_normalize(\n",
    "    arrival_data,\n",
    "    record_path=['p', 'l', 'vs'],   # vehicles\n",
    "    meta=[                          # keep stops and lines info\n",
    "        ['p', 'cp'], ['p', 'np'], ['p', 'py'], ['p', 'px'],   # stops\n",
    "        ['p', 'l', 'cl'], ['p', 'l', 'lt'], ['p', 'l', 'tp'], ['p', 'l', 'sl']  # lines\n",
    "    ],\n",
    "    errors='ignore'\n",
    ")\n",
    "arrival_df.drop_duplicates(inplace=True)\n",
    "arrival_df = arrival_df.rename(columns={\n",
    "    \"p\": \"prefixo_veiculo\",\n",
    "    \"t\": \"hora_chegada\",\n",
    "    \"a\": \"tem_acessibilidade\",\n",
    "    \"ta\": \"data_captura\",\n",
    "    \"py\": \"latitude\",\n",
    "    \"px\": \"longitude\",\n",
    "    \"p.cp\": \"codigo_parada\",\n",
    "    \"p.np\": \"nome_parada\",\n",
    "    \"p.py\": \"latitude_parada\",\n",
    "    \"p.px\": \"longitude_parada\",\n",
    "    \"p.l.cl\": \"codigo_linha\",\n",
    "    \"p.l.lt\": \"numero_linha\",\n",
    "    \"p.l.tp\": \"tipo_linha\",\n",
    "    \"p.l.sl\": \"sentido_linha\"\n",
    "})\n",
    "arrival_df.reset_index(drop=True, inplace=True)"
   ]
  },
  {
   "cell_type": "markdown",
   "id": "913917fc",
   "metadata": {},
   "source": [
    "## Relationing Tables"
   ]
  },
  {
   "cell_type": "code",
   "execution_count": 4,
   "id": "df00ed56",
   "metadata": {},
   "outputs": [],
   "source": [
    "merged_df = stops_df.merge(arrival_df, left_on=\"codigo_parada\", right_on=\"codigo_parada\")\n",
    "merged_df = merged_df.merge(lines_df, left_on=\"codigo_linha\", right_on=\"codigo_linha\")"
   ]
  },
  {
   "cell_type": "markdown",
   "id": "9d042cee",
   "metadata": {},
   "source": [
    "## Save Processed Data"
   ]
  },
  {
   "cell_type": "code",
   "execution_count": 5,
   "id": "7ab1b025",
   "metadata": {},
   "outputs": [],
   "source": [
    "processed_dir = f\"{ROOT_DIR}/data/processed\"\n",
    "Path(processed_dir).mkdir(parents=True, exist_ok=True)\n",
    "\n",
    "lines_df.to_parquet(f\"{processed_dir}/lines.parquet\", index=False)\n",
    "stops_df.to_parquet(f\"{processed_dir}/stops.parquet\", index=False)\n",
    "arrival_df.to_parquet(f\"{processed_dir}/arrivals.parquet\", index=False)\n",
    "merged_df.to_parquet(f\"{processed_dir}/merged.parquet\", index=False)\n"
   ]
  }
 ],
 "metadata": {
  "kernelspec": {
   "display_name": "venv (3.12.6)",
   "language": "python",
   "name": "python3"
  },
  "language_info": {
   "codemirror_mode": {
    "name": "ipython",
    "version": 3
   },
   "file_extension": ".py",
   "mimetype": "text/x-python",
   "name": "python",
   "nbconvert_exporter": "python",
   "pygments_lexer": "ipython3",
   "version": "3.12.6"
  }
 },
 "nbformat": 4,
 "nbformat_minor": 5
}
